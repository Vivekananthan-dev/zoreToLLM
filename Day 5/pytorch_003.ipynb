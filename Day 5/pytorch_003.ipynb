{
 "cells": [
  {
   "cell_type": "code",
   "execution_count": 2,
   "id": "d57d6543",
   "metadata": {},
   "outputs": [],
   "source": [
    "import torch"
   ]
  },
  {
   "cell_type": "markdown",
   "id": "07a0069a",
   "metadata": {},
   "source": [
    "One of the most common error in deep learning : **Shape error**"
   ]
  },
  {
   "cell_type": "code",
   "execution_count": null,
   "id": "2185d8ac",
   "metadata": {},
   "outputs": [
    {
     "ename": "RuntimeError",
     "evalue": "mat1 and mat2 shapes cannot be multiplied (2x3 and 2x3)",
     "output_type": "error",
     "traceback": [
      "\u001b[31m---------------------------------------------------------------------------\u001b[39m",
      "\u001b[31mRuntimeError\u001b[39m                              Traceback (most recent call last)",
      "\u001b[36mCell\u001b[39m\u001b[36m \u001b[39m\u001b[32mIn[7]\u001b[39m\u001b[32m, line 7\u001b[39m\n\u001b[32m      1\u001b[39m TENSOR1 = torch.tensor([[\u001b[32m1\u001b[39m,\u001b[32m2\u001b[39m,\u001b[32m3\u001b[39m],\n\u001b[32m      2\u001b[39m                         [\u001b[32m4\u001b[39m,\u001b[32m5\u001b[39m,\u001b[32m6\u001b[39m]])\n\u001b[32m      4\u001b[39m Tensor2 = torch.tensor([[\u001b[32m1\u001b[39m,\u001b[32m2\u001b[39m,\u001b[32m3\u001b[39m],\n\u001b[32m      5\u001b[39m                          [\u001b[32m4\u001b[39m,\u001b[32m5\u001b[39m,\u001b[32m6\u001b[39m]])\n\u001b[32m----> \u001b[39m\u001b[32m7\u001b[39m \u001b[43mtorch\u001b[49m\u001b[43m.\u001b[49m\u001b[43mmatmul\u001b[49m\u001b[43m(\u001b[49m\u001b[43mTENSOR1\u001b[49m\u001b[43m,\u001b[49m\u001b[43m \u001b[49m\u001b[43mTensor2\u001b[49m\u001b[43m)\u001b[49m\n",
      "\u001b[31mRuntimeError\u001b[39m: mat1 and mat2 shapes cannot be multiplied (2x3 and 2x3)"
     ]
    }
   ],
   "source": [
    "TENSOR1 = torch.tensor([[1,2,3],\n",
    "                        [4,5,6]])\n",
    "\n",
    "Tensor2 = torch.tensor([[1,2,3],\n",
    "                         [4,5,6]])\n",
    "\n",
    "torch.matmul(TENSOR1, Tensor2) # output: ERROR"
   ]
  },
  {
   "cell_type": "code",
   "execution_count": null,
   "id": "a7af0e02",
   "metadata": {},
   "outputs": [
    {
     "data": {
      "text/plain": [
       "tensor([[14, 32],\n",
       "        [32, 77]])"
      ]
     },
     "execution_count": 10,
     "metadata": {},
     "output_type": "execute_result"
    }
   ],
   "source": [
    "torch.matmul(TENSOR1,Tensor2.T) #to get the output we can transpose the matrix"
   ]
  },
  {
   "cell_type": "code",
   "execution_count": 11,
   "id": "7b7d3118",
   "metadata": {},
   "outputs": [
    {
     "name": "stdout",
     "output_type": "stream",
     "text": [
      "Tensor2 (matrix): tensor([[1, 2, 3],\n",
      "        [4, 5, 6]])\n",
      "Tensor2 (transposed): tensor([[1, 4],\n",
      "        [2, 5],\n",
      "        [3, 6]])\n"
     ]
    }
   ],
   "source": [
    "# note transpose matrix an tensor are different\n",
    "print(f\"Tensor2 (matrix): {Tensor2}\")\n",
    "print(f\"Tensor2 (transposed): {Tensor2.T}\")\n",
    "\n"
   ]
  },
  {
   "cell_type": "code",
   "execution_count": 12,
   "id": "023d4880",
   "metadata": {},
   "outputs": [
    {
     "name": "stdout",
     "output_type": "stream",
     "text": [
      "Tensor3 (matrix): tensor([[[1, 2, 3],\n",
      "         [4, 5, 6]]])\n",
      "Tensor3 (transposed): tensor([[[1],\n",
      "         [4]],\n",
      "\n",
      "        [[2],\n",
      "         [5]],\n",
      "\n",
      "        [[3],\n",
      "         [6]]])\n"
     ]
    }
   ],
   "source": [
    "#now let try using tensor\n",
    "\n",
    "Tensor3 = torch.tensor([[[1,2,3],\n",
    "                         [4,5,6]]])\n",
    "\n",
    "print(f\"Tensor3 (matrix): {Tensor3}\")\n",
    "print(f\"Tensor3 (transposed): {Tensor3.T}\")\n"
   ]
  },
  {
   "cell_type": "markdown",
   "id": "07a4ebde",
   "metadata": {},
   "source": [
    "**Finding the min,max,mean,sum,etc (tensor aggregation)**"
   ]
  },
  {
   "cell_type": "code",
   "execution_count": 4,
   "id": "9b9f776e",
   "metadata": {},
   "outputs": [
    {
     "data": {
      "text/plain": [
       "tensor([ 0, 10, 20, 30, 40, 50, 60, 70, 80, 90])"
      ]
     },
     "execution_count": 4,
     "metadata": {},
     "output_type": "execute_result"
    }
   ],
   "source": [
    "# lets create a random vector\n",
    "\n",
    "rm = torch.arange(0,100,10) # 0 to 100 for every 10 steps\n",
    "rm"
   ]
  },
  {
   "cell_type": "code",
   "execution_count": 19,
   "id": "ff8a34f4",
   "metadata": {},
   "outputs": [
    {
     "data": {
      "text/plain": [
       "(tensor(0), tensor(0))"
      ]
     },
     "execution_count": 19,
     "metadata": {},
     "output_type": "execute_result"
    }
   ],
   "source": [
    "rm.min(), torch.min(rm)"
   ]
  },
  {
   "cell_type": "code",
   "execution_count": 20,
   "id": "9508bf8d",
   "metadata": {},
   "outputs": [
    {
     "data": {
      "text/plain": [
       "(tensor(90), tensor(90))"
      ]
     },
     "execution_count": 20,
     "metadata": {},
     "output_type": "execute_result"
    }
   ],
   "source": [
    "rm.max(), torch.max(rm)"
   ]
  },
  {
   "cell_type": "code",
   "execution_count": 21,
   "id": "dfdc1e3c",
   "metadata": {},
   "outputs": [
    {
     "ename": "RuntimeError",
     "evalue": "mean(): could not infer output dtype. Input dtype must be either a floating point or complex dtype. Got: Long",
     "output_type": "error",
     "traceback": [
      "\u001b[31m---------------------------------------------------------------------------\u001b[39m",
      "\u001b[31mRuntimeError\u001b[39m                              Traceback (most recent call last)",
      "\u001b[36mCell\u001b[39m\u001b[36m \u001b[39m\u001b[32mIn[21]\u001b[39m\u001b[32m, line 1\u001b[39m\n\u001b[32m----> \u001b[39m\u001b[32m1\u001b[39m \u001b[43mrm\u001b[49m\u001b[43m.\u001b[49m\u001b[43mmean\u001b[49m\u001b[43m(\u001b[49m\u001b[43m)\u001b[49m,torch.mean(rm) \u001b[38;5;66;03m# output: error due to data type\u001b[39;00m\n",
      "\u001b[31mRuntimeError\u001b[39m: mean(): could not infer output dtype. Input dtype must be either a floating point or complex dtype. Got: Long"
     ]
    }
   ],
   "source": [
    "rm.mean(),torch.mean(rm) # output: error due to data type"
   ]
  },
  {
   "cell_type": "code",
   "execution_count": 23,
   "id": "0812a85f",
   "metadata": {},
   "outputs": [
    {
     "data": {
      "text/plain": [
       "torch.int64"
      ]
     },
     "execution_count": 23,
     "metadata": {},
     "output_type": "execute_result"
    }
   ],
   "source": [
    "rm.dtype # check data type"
   ]
  },
  {
   "cell_type": "code",
   "execution_count": 24,
   "id": "dc5beb70",
   "metadata": {},
   "outputs": [
    {
     "data": {
      "text/plain": [
       "(tensor(45.), tensor(45.))"
      ]
     },
     "execution_count": 24,
     "metadata": {},
     "output_type": "execute_result"
    }
   ],
   "source": [
    "# to work in mean we need either float or complex dtype\n",
    "rm.mean(dtype=torch.float32), torch.mean(rm.type(torch.float32)) # convert to float"
   ]
  },
  {
   "cell_type": "code",
   "execution_count": 5,
   "id": "85a3e175",
   "metadata": {},
   "outputs": [
    {
     "data": {
      "text/plain": [
       "(tensor(450), tensor(450))"
      ]
     },
     "execution_count": 5,
     "metadata": {},
     "output_type": "execute_result"
    }
   ],
   "source": [
    "rm.sum(), torch.sum(rm)"
   ]
  },
  {
   "cell_type": "code",
   "execution_count": 6,
   "id": "d1de14c3",
   "metadata": {},
   "outputs": [
    {
     "data": {
      "text/plain": [
       "(tensor(0), tensor(0))"
      ]
     },
     "execution_count": 6,
     "metadata": {},
     "output_type": "execute_result"
    }
   ],
   "source": [
    "# Find the position of the maximum value and minimum in the tensor\n",
    "\n",
    "rm.argmin(), torch.argmin(rm) # position of minimum value"
   ]
  },
  {
   "cell_type": "code",
   "execution_count": null,
   "id": "18ae2458",
   "metadata": {},
   "outputs": [
    {
     "data": {
      "text/plain": [
       "(tensor(9), tensor(9))"
      ]
     },
     "execution_count": 7,
     "metadata": {},
     "output_type": "execute_result"
    }
   ],
   "source": [
    "rm.argmax(), torch.argmax(rm) # Output: 9 this is because the idex starts with 0 "
   ]
  },
  {
   "cell_type": "code",
   "execution_count": 8,
   "id": "28cc8590",
   "metadata": {},
   "outputs": [
    {
     "data": {
      "text/plain": [
       "(tensor(1), tensor(1))"
      ]
     },
     "execution_count": 8,
     "metadata": {},
     "output_type": "execute_result"
    }
   ],
   "source": [
    "#lets try to find min max in 2D tensor\n",
    "TENSOR4 = torch.tensor([[1,2,3],\n",
    "                         [4,5,6]])\n",
    "TENSOR4.min(), torch.min(TENSOR4) # min value"
   ]
  },
  {
   "cell_type": "code",
   "execution_count": 9,
   "id": "535aab5b",
   "metadata": {},
   "outputs": [
    {
     "data": {
      "text/plain": [
       "(tensor(6), tensor(6))"
      ]
     },
     "execution_count": 9,
     "metadata": {},
     "output_type": "execute_result"
    }
   ],
   "source": [
    "TENSOR4.max(), torch.max(TENSOR4) # max value"
   ]
  },
  {
   "cell_type": "code",
   "execution_count": 12,
   "id": "8c46049f",
   "metadata": {},
   "outputs": [
    {
     "data": {
      "text/plain": [
       "(tensor(3.5000), tensor(3.5000))"
      ]
     },
     "execution_count": 12,
     "metadata": {},
     "output_type": "execute_result"
    }
   ],
   "source": [
    "TENSOR4.mean(dtype=torch.float32), torch.mean(TENSOR4.type(torch.float32)) # mean value"
   ]
  },
  {
   "cell_type": "markdown",
   "id": "a21f10f6",
   "metadata": {},
   "source": [
    "***Reshaping, View,  Stacking***\n",
    "* Reshape - reshapes the input to a defined shape \n",
    "* View - returns a view of the certain shape but keep the same memory location \n",
    "* Stacking - multiple tensor on top of each other(vstack) or side by side(hstack)"
   ]
  },
  {
   "cell_type": "code",
   "execution_count": 3,
   "id": "b1cae996",
   "metadata": {},
   "outputs": [
    {
     "data": {
      "text/plain": [
       "(tensor([1., 2., 3., 4., 5., 6., 7., 8., 9.]), torch.Size([9]))"
      ]
     },
     "execution_count": 3,
     "metadata": {},
     "output_type": "execute_result"
    }
   ],
   "source": [
    "x = torch.arange(1.,10.)\n",
    "x, x.shape # shape of the tensor"
   ]
  },
  {
   "cell_type": "code",
   "execution_count": 4,
   "id": "3c9df537",
   "metadata": {},
   "outputs": [
    {
     "data": {
      "text/plain": [
       "(tensor([[1., 2., 3., 4., 5., 6., 7., 8., 9.]]), torch.Size([1, 9]))"
      ]
     },
     "execution_count": 4,
     "metadata": {},
     "output_type": "execute_result"
    }
   ],
   "source": [
    "x_reshaped = x.reshape(1,9)\n",
    "x_reshaped, x_reshaped.shape # reshaped tensor and its shape"
   ]
  },
  {
   "cell_type": "code",
   "execution_count": 6,
   "id": "e638f71f",
   "metadata": {},
   "outputs": [
    {
     "data": {
      "text/plain": [
       "(tensor([[1., 2., 3.],\n",
       "         [4., 5., 6.],\n",
       "         [7., 8., 9.]]),\n",
       " torch.Size([3, 3]))"
      ]
     },
     "execution_count": 6,
     "metadata": {},
     "output_type": "execute_result"
    }
   ],
   "source": [
    "x_reshape = x.reshape(3,3)\n",
    "x_reshape, x_reshape.shape # reshaped tensor and its shape"
   ]
  },
  {
   "cell_type": "code",
   "execution_count": 8,
   "id": "cd8ec74a",
   "metadata": {},
   "outputs": [
    {
     "ename": "RuntimeError",
     "evalue": "shape '[2, 3]' is invalid for input of size 9",
     "output_type": "error",
     "traceback": [
      "\u001b[31m---------------------------------------------------------------------------\u001b[39m",
      "\u001b[31mRuntimeError\u001b[39m                              Traceback (most recent call last)",
      "\u001b[36mCell\u001b[39m\u001b[36m \u001b[39m\u001b[32mIn[8]\u001b[39m\u001b[32m, line 1\u001b[39m\n\u001b[32m----> \u001b[39m\u001b[32m1\u001b[39m x_re = \u001b[43mx\u001b[49m\u001b[43m.\u001b[49m\u001b[43mreshape\u001b[49m\u001b[43m(\u001b[49m\u001b[32;43m2\u001b[39;49m\u001b[43m,\u001b[49m\u001b[32;43m3\u001b[39;49m\u001b[43m)\u001b[49m\n\u001b[32m      2\u001b[39m x_re, x_re.shape \u001b[38;5;66;03m# reshaped tensor and its shape\u001b[39;00m\n",
      "\u001b[31mRuntimeError\u001b[39m: shape '[2, 3]' is invalid for input of size 9"
     ]
    }
   ],
   "source": [
    "x_re = x.reshape(2,3)\n",
    "x_re, x_re.shape # reshaped tensor and its shape"
   ]
  },
  {
   "cell_type": "code",
   "execution_count": 9,
   "id": "d516bb06",
   "metadata": {},
   "outputs": [
    {
     "data": {
      "text/plain": [
       "(tensor([[1., 2., 3.],\n",
       "         [4., 5., 6.],\n",
       "         [7., 8., 9.]]),\n",
       " torch.Size([3, 3]))"
      ]
     },
     "execution_count": 9,
     "metadata": {},
     "output_type": "execute_result"
    }
   ],
   "source": [
    "# change the view\n",
    "z = x.view(3,3)\n",
    "z, z.shape"
   ]
  },
  {
   "cell_type": "code",
   "execution_count": 11,
   "id": "fe5f0072",
   "metadata": {},
   "outputs": [
    {
     "data": {
      "text/plain": [
       "(tensor([[5., 2., 3.],\n",
       "         [5., 5., 6.],\n",
       "         [5., 8., 9.]]),\n",
       " tensor([5., 2., 3., 5., 5., 6., 5., 8., 9.]))"
      ]
     },
     "execution_count": 11,
     "metadata": {},
     "output_type": "execute_result"
    }
   ],
   "source": [
    "# changing z will change x as well because they share the same memory\n",
    "z[:, 0] = 5\n",
    "z,x "
   ]
  },
  {
   "cell_type": "code",
   "execution_count": 16,
   "id": "185389e5",
   "metadata": {},
   "outputs": [
    {
     "data": {
      "text/plain": [
       "tensor([[5., 2., 3., 5., 5., 6., 5., 8., 9.],\n",
       "        [5., 2., 3., 5., 5., 6., 5., 8., 9.],\n",
       "        [5., 2., 3., 5., 5., 6., 5., 8., 9.],\n",
       "        [5., 2., 3., 5., 5., 6., 5., 8., 9.]])"
      ]
     },
     "execution_count": 16,
     "metadata": {},
     "output_type": "execute_result"
    }
   ],
   "source": [
    "# Stacking\n",
    "x_stack = torch.stack([x,x,x,x],dim = 0)# use dim= 1\n",
    "x_stack"
   ]
  },
  {
   "cell_type": "markdown",
   "id": "8e0563a8",
   "metadata": {},
   "source": [
    "***Squeezing and UnSqueezing***\n",
    "* Squeeze - remove all 1 dimension from tensor\n",
    "* UnSqueeze - add 1 dimension to a target tensor\n",
    "* permute - Return a view of the input with dimensions permuted (swapped) in a certain way"
   ]
  },
  {
   "cell_type": "code",
   "execution_count": 18,
   "id": "b6a1daf1",
   "metadata": {},
   "outputs": [
    {
     "data": {
      "text/plain": [
       "torch.Size([4, 9])"
      ]
     },
     "execution_count": 18,
     "metadata": {},
     "output_type": "execute_result"
    }
   ],
   "source": [
    "x_stack.shape"
   ]
  },
  {
   "cell_type": "code",
   "execution_count": 17,
   "id": "b69fdfb3",
   "metadata": {},
   "outputs": [
    {
     "data": {
      "text/plain": [
       "tensor([[5., 2., 3., 5., 5., 6., 5., 8., 9.],\n",
       "        [5., 2., 3., 5., 5., 6., 5., 8., 9.],\n",
       "        [5., 2., 3., 5., 5., 6., 5., 8., 9.],\n",
       "        [5., 2., 3., 5., 5., 6., 5., 8., 9.]])"
      ]
     },
     "execution_count": 17,
     "metadata": {},
     "output_type": "execute_result"
    }
   ],
   "source": [
    "x_stack.squeeze()"
   ]
  },
  {
   "cell_type": "code",
   "execution_count": null,
   "id": "18813dae",
   "metadata": {},
   "outputs": [
    {
     "data": {
      "text/plain": [
       "torch.Size([4, 9])"
      ]
     },
     "execution_count": 23,
     "metadata": {},
     "output_type": "execute_result"
    }
   ],
   "source": [
    "x_stack.squeeze().shape # it is used to remove the dimensions of size 1"
   ]
  },
  {
   "cell_type": "code",
   "execution_count": 25,
   "id": "ee9ec2c9",
   "metadata": {},
   "outputs": [
    {
     "data": {
      "text/plain": [
       "(tensor([[0.7554, 0.3878, 0.0888, 0.9431, 0.0737, 0.0547, 0.8240, 0.8234, 0.4978,\n",
       "          0.2361]]),\n",
       " torch.Size([1, 10]))"
      ]
     },
     "execution_count": 25,
     "metadata": {},
     "output_type": "execute_result"
    }
   ],
   "source": [
    "sq = torch.rand(1,10)\n",
    "sq,sq.shape"
   ]
  },
  {
   "cell_type": "code",
   "execution_count": 26,
   "id": "d02cc053",
   "metadata": {},
   "outputs": [
    {
     "data": {
      "text/plain": [
       "(tensor([0.7554, 0.3878, 0.0888, 0.9431, 0.0737, 0.0547, 0.8240, 0.8234, 0.4978,\n",
       "         0.2361]),\n",
       " torch.Size([10]))"
      ]
     },
     "execution_count": 26,
     "metadata": {},
     "output_type": "execute_result"
    }
   ],
   "source": [
    "sq.squeeze(), sq.squeeze().shape # remove the dimension of size 1"
   ]
  },
  {
   "cell_type": "code",
   "execution_count": null,
   "id": "29acc0ca",
   "metadata": {},
   "outputs": [
    {
     "data": {
      "text/plain": [
       "(tensor([[[0.7554, 0.3878, 0.0888, 0.9431, 0.0737, 0.0547, 0.8240, 0.8234,\n",
       "           0.4978, 0.2361]]]),\n",
       " torch.Size([1, 1, 10]))"
      ]
     },
     "execution_count": 34,
     "metadata": {},
     "output_type": "execute_result"
    }
   ],
   "source": [
    "# unsqueeze the tensor\n",
    "\n",
    "sq.unsqueeze(0), sq.unsqueeze(0).shape # add a dimension of size 1 at the 0th index\n",
    "\n",
    "# figure out the change in the shape \n",
    "# change 0 to 1, 2, etc in the unsqueeze to add a dimension at that index"
   ]
  },
  {
   "cell_type": "code",
   "execution_count": null,
   "id": "17f743e5",
   "metadata": {},
   "outputs": [],
   "source": []
  }
 ],
 "metadata": {
  "kernelspec": {
   "display_name": "pytorch_env",
   "language": "python",
   "name": "python3"
  },
  "language_info": {
   "codemirror_mode": {
    "name": "ipython",
    "version": 3
   },
   "file_extension": ".py",
   "mimetype": "text/x-python",
   "name": "python",
   "nbconvert_exporter": "python",
   "pygments_lexer": "ipython3",
   "version": "3.11.0"
  }
 },
 "nbformat": 4,
 "nbformat_minor": 5
}
