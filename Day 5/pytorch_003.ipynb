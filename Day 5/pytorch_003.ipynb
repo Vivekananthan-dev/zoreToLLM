{
 "cells": [
  {
   "cell_type": "code",
   "execution_count": 1,
   "id": "d57d6543",
   "metadata": {},
   "outputs": [],
   "source": [
    "import torch"
   ]
  },
  {
   "cell_type": "markdown",
   "id": "07a0069a",
   "metadata": {},
   "source": [
    "One of the most common error in deep learning : **Shape error**"
   ]
  },
  {
   "cell_type": "code",
   "execution_count": null,
   "id": "2185d8ac",
   "metadata": {},
   "outputs": [
    {
     "ename": "RuntimeError",
     "evalue": "mat1 and mat2 shapes cannot be multiplied (2x3 and 2x3)",
     "output_type": "error",
     "traceback": [
      "\u001b[31m---------------------------------------------------------------------------\u001b[39m",
      "\u001b[31mRuntimeError\u001b[39m                              Traceback (most recent call last)",
      "\u001b[36mCell\u001b[39m\u001b[36m \u001b[39m\u001b[32mIn[7]\u001b[39m\u001b[32m, line 7\u001b[39m\n\u001b[32m      1\u001b[39m TENSOR1 = torch.tensor([[\u001b[32m1\u001b[39m,\u001b[32m2\u001b[39m,\u001b[32m3\u001b[39m],\n\u001b[32m      2\u001b[39m                         [\u001b[32m4\u001b[39m,\u001b[32m5\u001b[39m,\u001b[32m6\u001b[39m]])\n\u001b[32m      4\u001b[39m Tensor2 = torch.tensor([[\u001b[32m1\u001b[39m,\u001b[32m2\u001b[39m,\u001b[32m3\u001b[39m],\n\u001b[32m      5\u001b[39m                          [\u001b[32m4\u001b[39m,\u001b[32m5\u001b[39m,\u001b[32m6\u001b[39m]])\n\u001b[32m----> \u001b[39m\u001b[32m7\u001b[39m \u001b[43mtorch\u001b[49m\u001b[43m.\u001b[49m\u001b[43mmatmul\u001b[49m\u001b[43m(\u001b[49m\u001b[43mTENSOR1\u001b[49m\u001b[43m,\u001b[49m\u001b[43m \u001b[49m\u001b[43mTensor2\u001b[49m\u001b[43m)\u001b[49m\n",
      "\u001b[31mRuntimeError\u001b[39m: mat1 and mat2 shapes cannot be multiplied (2x3 and 2x3)"
     ]
    }
   ],
   "source": [
    "TENSOR1 = torch.tensor([[1,2,3],\n",
    "                        [4,5,6]])\n",
    "\n",
    "Tensor2 = torch.tensor([[1,2,3],\n",
    "                         [4,5,6]])\n",
    "\n",
    "torch.matmul(TENSOR1, Tensor2) # output: ERROR"
   ]
  },
  {
   "cell_type": "code",
   "execution_count": null,
   "id": "a7af0e02",
   "metadata": {},
   "outputs": [
    {
     "data": {
      "text/plain": [
       "tensor([[14, 32],\n",
       "        [32, 77]])"
      ]
     },
     "execution_count": 10,
     "metadata": {},
     "output_type": "execute_result"
    }
   ],
   "source": [
    "torch.matmul(TENSOR1,Tensor2.T) #to get the output we can transpose the matrix"
   ]
  },
  {
   "cell_type": "code",
   "execution_count": 11,
   "id": "7b7d3118",
   "metadata": {},
   "outputs": [
    {
     "name": "stdout",
     "output_type": "stream",
     "text": [
      "Tensor2 (matrix): tensor([[1, 2, 3],\n",
      "        [4, 5, 6]])\n",
      "Tensor2 (transposed): tensor([[1, 4],\n",
      "        [2, 5],\n",
      "        [3, 6]])\n"
     ]
    }
   ],
   "source": [
    "# note transpose matrix an tensor are different\n",
    "print(f\"Tensor2 (matrix): {Tensor2}\")\n",
    "print(f\"Tensor2 (transposed): {Tensor2.T}\")\n",
    "\n"
   ]
  },
  {
   "cell_type": "code",
   "execution_count": 12,
   "id": "023d4880",
   "metadata": {},
   "outputs": [
    {
     "name": "stdout",
     "output_type": "stream",
     "text": [
      "Tensor3 (matrix): tensor([[[1, 2, 3],\n",
      "         [4, 5, 6]]])\n",
      "Tensor3 (transposed): tensor([[[1],\n",
      "         [4]],\n",
      "\n",
      "        [[2],\n",
      "         [5]],\n",
      "\n",
      "        [[3],\n",
      "         [6]]])\n"
     ]
    }
   ],
   "source": [
    "#now let try using tensor\n",
    "\n",
    "Tensor3 = torch.tensor([[[1,2,3],\n",
    "                         [4,5,6]]])\n",
    "\n",
    "print(f\"Tensor3 (matrix): {Tensor3}\")\n",
    "print(f\"Tensor3 (transposed): {Tensor3.T}\")\n"
   ]
  },
  {
   "cell_type": "markdown",
   "id": "07a4ebde",
   "metadata": {},
   "source": [
    "**Finding the min,max,mean,sum,etc (tensor aggregation)**"
   ]
  },
  {
   "cell_type": "code",
   "execution_count": null,
   "id": "9b9f776e",
   "metadata": {},
   "outputs": [
    {
     "data": {
      "text/plain": [
       "tensor([ 0, 10, 20, 30, 40, 50, 60, 70, 80, 90])"
      ]
     },
     "execution_count": 18,
     "metadata": {},
     "output_type": "execute_result"
    }
   ],
   "source": [
    "# lets create a random vector\n",
    "\n",
    "rm = torch.arange(0,100,10) # 0 to 100 for every 10 steps\n",
    "rm"
   ]
  },
  {
   "cell_type": "code",
   "execution_count": 19,
   "id": "ff8a34f4",
   "metadata": {},
   "outputs": [
    {
     "data": {
      "text/plain": [
       "(tensor(0), tensor(0))"
      ]
     },
     "execution_count": 19,
     "metadata": {},
     "output_type": "execute_result"
    }
   ],
   "source": [
    "rm.min(), torch.min(rm)"
   ]
  },
  {
   "cell_type": "code",
   "execution_count": 20,
   "id": "9508bf8d",
   "metadata": {},
   "outputs": [
    {
     "data": {
      "text/plain": [
       "(tensor(90), tensor(90))"
      ]
     },
     "execution_count": 20,
     "metadata": {},
     "output_type": "execute_result"
    }
   ],
   "source": [
    "rm.max(), torch.max(rm)"
   ]
  },
  {
   "cell_type": "code",
   "execution_count": 21,
   "id": "dfdc1e3c",
   "metadata": {},
   "outputs": [
    {
     "ename": "RuntimeError",
     "evalue": "mean(): could not infer output dtype. Input dtype must be either a floating point or complex dtype. Got: Long",
     "output_type": "error",
     "traceback": [
      "\u001b[31m---------------------------------------------------------------------------\u001b[39m",
      "\u001b[31mRuntimeError\u001b[39m                              Traceback (most recent call last)",
      "\u001b[36mCell\u001b[39m\u001b[36m \u001b[39m\u001b[32mIn[21]\u001b[39m\u001b[32m, line 1\u001b[39m\n\u001b[32m----> \u001b[39m\u001b[32m1\u001b[39m \u001b[43mrm\u001b[49m\u001b[43m.\u001b[49m\u001b[43mmean\u001b[49m\u001b[43m(\u001b[49m\u001b[43m)\u001b[49m,torch.mean(rm) \u001b[38;5;66;03m# output: error due to data type\u001b[39;00m\n",
      "\u001b[31mRuntimeError\u001b[39m: mean(): could not infer output dtype. Input dtype must be either a floating point or complex dtype. Got: Long"
     ]
    }
   ],
   "source": [
    "rm.mean(),torch.mean(rm) # output: error due to data type"
   ]
  },
  {
   "cell_type": "code",
   "execution_count": 23,
   "id": "0812a85f",
   "metadata": {},
   "outputs": [
    {
     "data": {
      "text/plain": [
       "torch.int64"
      ]
     },
     "execution_count": 23,
     "metadata": {},
     "output_type": "execute_result"
    }
   ],
   "source": [
    "rm.dtype # check data type"
   ]
  },
  {
   "cell_type": "code",
   "execution_count": 24,
   "id": "dc5beb70",
   "metadata": {},
   "outputs": [
    {
     "data": {
      "text/plain": [
       "(tensor(45.), tensor(45.))"
      ]
     },
     "execution_count": 24,
     "metadata": {},
     "output_type": "execute_result"
    }
   ],
   "source": [
    "# to work in mean we need either float or complex dtype\n",
    "rm.mean(dtype=torch.float32), torch.mean(rm.type(torch.float32)) # convert to float"
   ]
  },
  {
   "cell_type": "code",
   "execution_count": 25,
   "id": "85a3e175",
   "metadata": {},
   "outputs": [
    {
     "data": {
      "text/plain": [
       "(tensor(450), tensor(450))"
      ]
     },
     "execution_count": 25,
     "metadata": {},
     "output_type": "execute_result"
    }
   ],
   "source": [
    "rm.sum(),torch.sum(rm)"
   ]
  }
 ],
 "metadata": {
  "kernelspec": {
   "display_name": "pytorch_env",
   "language": "python",
   "name": "python3"
  },
  "language_info": {
   "codemirror_mode": {
    "name": "ipython",
    "version": 3
   },
   "file_extension": ".py",
   "mimetype": "text/x-python",
   "name": "python",
   "nbconvert_exporter": "python",
   "pygments_lexer": "ipython3",
   "version": "3.11.0"
  }
 },
 "nbformat": 4,
 "nbformat_minor": 5
}
