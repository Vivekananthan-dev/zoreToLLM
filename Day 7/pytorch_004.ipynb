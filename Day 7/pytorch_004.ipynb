{
 "cells": [
  {
   "cell_type": "markdown",
   "id": "fa0f659a",
   "metadata": {},
   "source": [
    "#Day 6 is about pinecone so i was working on it will be posted as soon as possible"
   ]
  },
  {
   "cell_type": "markdown",
   "id": "7f464231",
   "metadata": {},
   "source": [
    "## PyTorch tensors and NumPy\n",
    "\n",
    "NumPy is a popular scientific Python numerical computing library.\n",
    "\n",
    "And because of this, PyTorch has functionality to interact with it.\n",
    "* Data in NumPy, want in PyTorch tensor -> `torch.from_numpy(ndarray)`\n",
    "* PyTroch tensor -> NumPy -> `torch.Tensor.numpy()`\n"
   ]
  },
  {
   "cell_type": "code",
   "execution_count": 1,
   "id": "6b1b33b5",
   "metadata": {},
   "outputs": [],
   "source": [
    "#Numpy array to tensor\n",
    "import torch\n",
    "import numpy as np"
   ]
  },
  {
   "cell_type": "code",
   "execution_count": null,
   "id": "92c5ff06",
   "metadata": {},
   "outputs": [
    {
     "data": {
      "text/plain": [
       "(array([1., 2., 3., 4., 5., 6., 7.]),\n",
       " tensor([1., 2., 3., 4., 5., 6., 7.], dtype=torch.float64))"
      ]
     },
     "execution_count": 2,
     "metadata": {},
     "output_type": "execute_result"
    }
   ],
   "source": [
    "array = np.arange(1.0,8.0) \n",
    "tensor = torch.from_numpy(array) # while coverting from numpy the pytorch takes numpy's default datatype float 64\n",
    "array,tensor"
   ]
  },
  {
   "cell_type": "code",
   "execution_count": null,
   "id": "244bc107",
   "metadata": {},
   "outputs": [
    {
     "data": {
      "text/plain": [
       "(dtype('float64'), torch.float32)"
      ]
     },
     "execution_count": 4,
     "metadata": {},
     "output_type": "execute_result"
    }
   ],
   "source": [
    "array.dtype, torch.arange(1.0,8.0).dtype # difference is by default pytorch create float 32 but numpy won't"
   ]
  },
  {
   "cell_type": "code",
   "execution_count": null,
   "id": "31fc0d29",
   "metadata": {},
   "outputs": [
    {
     "data": {
      "text/plain": [
       "torch.float32"
      ]
     },
     "execution_count": 9,
     "metadata": {},
     "output_type": "execute_result"
    }
   ],
   "source": [
    "tensor = tensor.type(torch.float32)\n",
    "tensor.dtype #converting to FP(full precision) from double precision"
   ]
  },
  {
   "cell_type": "code",
   "execution_count": 10,
   "id": "a4bac428",
   "metadata": {},
   "outputs": [
    {
     "data": {
      "text/plain": [
       "(array([2., 3., 4., 5., 6., 7., 8.]), tensor([1., 2., 3., 4., 5., 6., 7.]))"
      ]
     },
     "execution_count": 10,
     "metadata": {},
     "output_type": "execute_result"
    }
   ],
   "source": [
    "#changes in numpy array, will it reflect in the tensor\n",
    "array = array+1\n",
    "array,tensor"
   ]
  },
  {
   "cell_type": "code",
   "execution_count": null,
   "id": "eb8ae1d2",
   "metadata": {},
   "outputs": [
    {
     "data": {
      "text/plain": [
       "(tensor([1., 2., 3., 4., 5., 6., 7.]),\n",
       " array([1., 2., 3., 4., 5., 6., 7.], dtype=float32))"
      ]
     },
     "execution_count": 11,
     "metadata": {},
     "output_type": "execute_result"
    }
   ],
   "source": [
    "numpy_tensor =  tensor.numpy()\n",
    "tensor,numpy_tensor # Note: going from pytorch to numpy the datatype problem will occurs"
   ]
  },
  {
   "cell_type": "markdown",
   "id": "93682ba7",
   "metadata": {},
   "source": [
    "## Reproducing (trying to take random out of random)\n",
    "In short how a neural network learns:\n",
    "* `start with random numbers`->`tensor operations`-> `update random numbers to try and make them better representations of the data`-> `again`->`again`..\n",
    "\n",
    "To reduce the randomness in neural networks and Pytorch comes concept of a **random seed**.\n",
    "Essentially what the random seed does in \"flavour\" the randomness."
   ]
  },
  {
   "cell_type": "code",
   "execution_count": 12,
   "id": "83371490",
   "metadata": {},
   "outputs": [
    {
     "data": {
      "text/plain": [
       "(tensor([[0.9750, 0.6601, 0.6820, 0.1809],\n",
       "         [0.0999, 0.3313, 0.1295, 0.3698],\n",
       "         [0.5030, 0.5990, 0.9661, 0.3811]]),\n",
       " tensor([[0.5017, 0.0614, 0.7067, 0.5967],\n",
       "         [0.5508, 0.9556, 0.8934, 0.9540],\n",
       "         [0.1380, 0.4410, 0.5265, 0.3506]]))"
      ]
     },
     "execution_count": 12,
     "metadata": {},
     "output_type": "execute_result"
    }
   ],
   "source": [
    "random_tensorA = torch.rand(3,4)\n",
    "random_tensorB = torch.rand(3,4)\n",
    "random_tensorA,random_tensorB"
   ]
  },
  {
   "cell_type": "code",
   "execution_count": 13,
   "id": "55c991ea",
   "metadata": {},
   "outputs": [
    {
     "name": "stdout",
     "output_type": "stream",
     "text": [
      "tensor([[False, False, False, False],\n",
      "        [False, False, False, False],\n",
      "        [False, False, False, False]])\n"
     ]
    }
   ],
   "source": [
    "print(random_tensorA == random_tensorB)\n"
   ]
  },
  {
   "cell_type": "code",
   "execution_count": null,
   "id": "13f76277",
   "metadata": {},
   "outputs": [
    {
     "name": "stdout",
     "output_type": "stream",
     "text": [
      "tensor([[False, False, False, False],\n",
      "        [False, False, False, False],\n",
      "        [False, False, False, False]])\n"
     ]
    }
   ],
   "source": [
    "seed = 42\n",
    "torch.manual_seed(seed) # trying to reproduce the same value while choosing random value\n",
    "random_tensorC = torch.rand(3,4)\n",
    "\n",
    "random_tensorD = torch.rand(3,4)\n",
    "\n",
    "print(random_tensorC == random_tensorD)\n"
   ]
  },
  {
   "cell_type": "code",
   "execution_count": null,
   "id": "15293902",
   "metadata": {},
   "outputs": [
    {
     "name": "stdout",
     "output_type": "stream",
     "text": [
      "tensor([[True, True, True, True],\n",
      "        [True, True, True, True],\n",
      "        [True, True, True, True]])\n"
     ]
    }
   ],
   "source": [
    "torch.manual_seed(seed)\n",
    "random_tensorC = torch.rand(3,4)\n",
    "torch.manual_seed(seed)\n",
    "random_tensorD = torch.rand(3,4)\n",
    "print(random_tensorC == random_tensorD) \n",
    "#You have to use seed every time before using `rand` function to get same random value"
   ]
  },
  {
   "cell_type": "code",
   "execution_count": null,
   "id": "187677d4",
   "metadata": {},
   "outputs": [
    {
     "data": {
      "text/plain": [
       "True"
      ]
     },
     "execution_count": 16,
     "metadata": {},
     "output_type": "execute_result"
    }
   ],
   "source": [
    "## Running tensors and pytorch objects on the GPUs and making faster computation\n",
    "torch.cuda.is_available() # to check cida is available "
   ]
  },
  {
   "cell_type": "code",
   "execution_count": null,
   "id": "61590507",
   "metadata": {},
   "outputs": [
    {
     "data": {
      "text/plain": [
       "'cuda'"
      ]
     },
     "execution_count": 17,
     "metadata": {},
     "output_type": "execute_result"
    }
   ],
   "source": [
    "#setup device agnostic code\n",
    "device = \"cuda\" if torch.cuda.is_available() else \"cpu\"\n",
    "device\n",
    "# its best practice to setup device agnostic since Pytorch can able to run in both `CPU` and `GPU` "
   ]
  },
  {
   "cell_type": "code",
   "execution_count": 18,
   "id": "7735e6f2",
   "metadata": {},
   "outputs": [
    {
     "data": {
      "text/plain": [
       "1"
      ]
     },
     "execution_count": 18,
     "metadata": {},
     "output_type": "execute_result"
    }
   ],
   "source": [
    "torch.cuda.device_count()"
   ]
  },
  {
   "cell_type": "markdown",
   "id": "5955720d",
   "metadata": {},
   "source": [
    "## Using tensors( and Models) on the GPU\n",
    "we all know that the Gpu is much faster and effective incase of running a AI model its is recommended to use GPU instead of CPU."
   ]
  },
  {
   "cell_type": "code",
   "execution_count": null,
   "id": "9a6be72f",
   "metadata": {},
   "outputs": [
    {
     "name": "stdout",
     "output_type": "stream",
     "text": [
      "tensor([1, 2, 3]) cpu\n"
     ]
    }
   ],
   "source": [
    "#Create a tensor (default on the CPU)\n",
    "nTensor = torch.tensor([1,2,3])\n",
    "\n",
    "#Checking CPU or GPU\n",
    "print(nTensor,nTensor.device) #Therefore by default it will be in CPU"
   ]
  },
  {
   "cell_type": "code",
   "execution_count": null,
   "id": "4787139c",
   "metadata": {},
   "outputs": [
    {
     "data": {
      "text/plain": [
       "tensor([1, 2, 3], device='cuda:0')"
      ]
     },
     "execution_count": 20,
     "metadata": {},
     "output_type": "execute_result"
    }
   ],
   "source": [
    "#Move tensor to GPU (if available)\n",
    "nTensor = nTensor.to(device) # the device in this parameter is a variable we specified.\n",
    "nTensor # since my system has GPU  it moves to cuda \n",
    "#nTensor = nTensor.to(device=device)"
   ]
  },
  {
   "cell_type": "code",
   "execution_count": 21,
   "id": "c04ff32b",
   "metadata": {},
   "outputs": [
    {
     "ename": "TypeError",
     "evalue": "can't convert cuda:0 device type tensor to numpy. Use Tensor.cpu() to copy the tensor to host memory first.",
     "output_type": "error",
     "traceback": [
      "\u001b[31m---------------------------------------------------------------------------\u001b[39m",
      "\u001b[31mTypeError\u001b[39m                                 Traceback (most recent call last)",
      "\u001b[36mCell\u001b[39m\u001b[36m \u001b[39m\u001b[32mIn[21]\u001b[39m\u001b[32m, line 2\u001b[39m\n\u001b[32m      1\u001b[39m \u001b[38;5;66;03m### NumPy will only work on CPU\u001b[39;00m\n\u001b[32m----> \u001b[39m\u001b[32m2\u001b[39m \u001b[43mnTensor\u001b[49m\u001b[43m.\u001b[49m\u001b[43mnumpy\u001b[49m\u001b[43m(\u001b[49m\u001b[43m)\u001b[49m\n",
      "\u001b[31mTypeError\u001b[39m: can't convert cuda:0 device type tensor to numpy. Use Tensor.cpu() to copy the tensor to host memory first."
     ]
    }
   ],
   "source": [
    "### NumPy will only work on CPU\n",
    "nTensor.numpy()"
   ]
  },
  {
   "cell_type": "code",
   "execution_count": null,
   "id": "35f96f52",
   "metadata": {},
   "outputs": [
    {
     "data": {
      "text/plain": [
       "array([1, 2, 3])"
      ]
     },
     "execution_count": 22,
     "metadata": {},
     "output_type": "execute_result"
    }
   ],
   "source": [
    "# To fix the Cpu issue\n",
    "\n",
    "nTensor = nTensor.cpu().numpy() #You can use different variable to assing the numpy value so it wont affect things in GPU \n",
    "nTensor"
   ]
  }
 ],
 "metadata": {
  "kernelspec": {
   "display_name": "pytorch_env",
   "language": "python",
   "name": "python3"
  },
  "language_info": {
   "codemirror_mode": {
    "name": "ipython",
    "version": 3
   },
   "file_extension": ".py",
   "mimetype": "text/x-python",
   "name": "python",
   "nbconvert_exporter": "python",
   "pygments_lexer": "ipython3",
   "version": "3.11.0"
  }
 },
 "nbformat": 4,
 "nbformat_minor": 5
}
