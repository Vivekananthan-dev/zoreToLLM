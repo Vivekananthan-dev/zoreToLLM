{
 "cells": [
  {
   "cell_type": "code",
   "execution_count": null,
   "id": "166f54e1",
   "metadata": {},
   "outputs": [
    {
     "name": "stdout",
     "output_type": "stream",
     "text": [
      "Tue May 20 20:48:29 2025       \n",
      "+-----------------------------------------------------------------------------------------+\n",
      "| NVIDIA-SMI 561.19                 Driver Version: 561.19         CUDA Version: 12.6     |\n",
      "|-----------------------------------------+------------------------+----------------------+\n",
      "| GPU  Name                  Driver-Model | Bus-Id          Disp.A | Volatile Uncorr. ECC |\n",
      "| Fan  Temp   Perf          Pwr:Usage/Cap |           Memory-Usage | GPU-Util  Compute M. |\n",
      "|                                         |                        |               MIG M. |\n",
      "|=========================================+========================+======================|\n",
      "|   0  NVIDIA GeForce GTX 1650      WDDM  |   00000000:01:00.0 Off |                  N/A |\n",
      "| N/A   46C    P3             15W /   30W |       0MiB /   4096MiB |      0%      Default |\n",
      "|                                         |                        |                  N/A |\n",
      "+-----------------------------------------+------------------------+----------------------+\n",
      "                                                                                         \n",
      "+-----------------------------------------------------------------------------------------+\n",
      "| Processes:                                                                              |\n",
      "|  GPU   GI   CI        PID   Type   Process name                              GPU Memory |\n",
      "|        ID   ID                                                               Usage      |\n",
      "|=========================================================================================|\n",
      "|  No running processes found                                                             |\n",
      "+-----------------------------------------------------------------------------------------+\n"
     ]
    }
   ],
   "source": [
    "!nvidia-smi\n",
    "#to find out your system cuda details"
   ]
  },
  {
   "cell_type": "code",
   "execution_count": null,
   "id": "c24fc484",
   "metadata": {},
   "outputs": [
    {
     "name": "stdout",
     "output_type": "stream",
     "text": [
      "2.5.1+cu121\n",
      "2.2.3\n"
     ]
    }
   ],
   "source": [
    "import torch\n",
    "import pandas as pd\n",
    "import numpy as np\n",
    "#import matplotlib.pyplot as plt\n",
    "\n",
    "print(torch.__version__)\n",
    "print(pd.__version__)"
   ]
  },
  {
   "cell_type": "markdown",
   "id": "12a5f4ec",
   "metadata": {},
   "source": [
    "Introduction to Tensor\n",
    "\n",
    "Creating a Tensor"
   ]
  },
  {
   "cell_type": "code",
   "execution_count": 11,
   "id": "21666f2d",
   "metadata": {},
   "outputs": [
    {
     "data": {
      "text/plain": [
       "tensor(7)"
      ]
     },
     "execution_count": 11,
     "metadata": {},
     "output_type": "execute_result"
    }
   ],
   "source": [
    "scalar = torch.tensor(7)\n",
    "scalar"
   ]
  },
  {
   "cell_type": "code",
   "execution_count": 13,
   "id": "3d3c74f0",
   "metadata": {},
   "outputs": [
    {
     "data": {
      "text/plain": [
       "7"
      ]
     },
     "execution_count": 13,
     "metadata": {},
     "output_type": "execute_result"
    }
   ],
   "source": [
    "scalar.ndim # A scalar has no dimensions\n",
    "\n",
    "#get tensor value\n",
    "\n",
    "scalar.item()"
   ]
  },
  {
   "cell_type": "code",
   "execution_count": null,
   "id": "a90c1d8b",
   "metadata": {},
   "outputs": [
    {
     "name": "stdout",
     "output_type": "stream",
     "text": [
      "tensor([7, 8, 9])\n",
      "1\n",
      "torch.Size([3])\n"
     ]
    }
   ],
   "source": [
    "#Vector\n",
    "vector = torch.tensor([7, 8, 9])\n",
    "print(vector)\n",
    "\n",
    "print(vector.ndim) # A vector has one dimension\n",
    "print(vector.shape) # A vector has a shape of (3)"
   ]
  },
  {
   "cell_type": "code",
   "execution_count": 16,
   "id": "6a19f735",
   "metadata": {},
   "outputs": [
    {
     "name": "stdout",
     "output_type": "stream",
     "text": [
      "tensor([[ 7,  8],\n",
      "        [ 9, 10]])\n",
      "2\n",
      "torch.Size([2, 2])\n"
     ]
    }
   ],
   "source": [
    "#matrix \n",
    "\n",
    "matrix = torch.tensor([[7,8],[9,10]])\n",
    "\n",
    "print(matrix)\n",
    "print(matrix.ndim) # A matrix has two dimensions\n",
    "print(matrix.shape) # A matrix has a shape of (2, 2)"
   ]
  },
  {
   "cell_type": "code",
   "execution_count": 22,
   "id": "eb0f371d",
   "metadata": {},
   "outputs": [
    {
     "name": "stdout",
     "output_type": "stream",
     "text": [
      "tensor([[[1, 2, 3],\n",
      "         [3, 6, 9],\n",
      "         [2, 4, 5]]])\n",
      "3\n",
      "torch.Size([1, 3, 3])\n",
      "tensor([[1, 2, 3],\n",
      "        [3, 6, 9],\n",
      "        [2, 4, 5]])\n",
      "tensor([1, 2, 3])\n",
      "tensor(1)\n",
      "tensor(3)\n",
      "tensor(5)\n"
     ]
    }
   ],
   "source": [
    "#Tensor\n",
    "\n",
    "ten = torch.tensor([[[1,2,3],\n",
    "                     [3,6,9],\n",
    "                     [2,4,5]]])\n",
    "\n",
    "print(ten)\n",
    "print(ten.ndim) # A tensor has three dimensions\n",
    "print(ten.shape) # A tensor has a shape of (1, 3, 3)\n",
    "\n",
    "print(ten[0]) # Accessing the first element of the tensor\n",
    "print(ten[0][0]) # Accessing the first row of the first element of the tensor\n",
    "print(ten[0][0][0]) # Accessing the first element of the first row of the first element of the tensor\n",
    "print(ten[0][1][0]) # Accessing the first element of the second row of the first element of the tensor\n",
    "print(ten[0][2][2])"
   ]
  }
 ],
 "metadata": {
  "kernelspec": {
   "display_name": "pytorch_env",
   "language": "python",
   "name": "python3"
  },
  "language_info": {
   "codemirror_mode": {
    "name": "ipython",
    "version": 3
   },
   "file_extension": ".py",
   "mimetype": "text/x-python",
   "name": "python",
   "nbconvert_exporter": "python",
   "pygments_lexer": "ipython3",
   "version": "3.11.0"
  }
 },
 "nbformat": 4,
 "nbformat_minor": 5
}
