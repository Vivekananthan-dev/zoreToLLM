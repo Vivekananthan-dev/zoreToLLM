{
 "cells": [
  {
   "cell_type": "code",
   "execution_count": null,
   "id": "166f54e1",
   "metadata": {},
   "outputs": [
    {
     "name": "stdout",
     "output_type": "stream",
     "text": [
      "Tue May 20 20:48:29 2025       \n",
      "+-----------------------------------------------------------------------------------------+\n",
      "| NVIDIA-SMI 561.19                 Driver Version: 561.19         CUDA Version: 12.6     |\n",
      "|-----------------------------------------+------------------------+----------------------+\n",
      "| GPU  Name                  Driver-Model | Bus-Id          Disp.A | Volatile Uncorr. ECC |\n",
      "| Fan  Temp   Perf          Pwr:Usage/Cap |           Memory-Usage | GPU-Util  Compute M. |\n",
      "|                                         |                        |               MIG M. |\n",
      "|=========================================+========================+======================|\n",
      "|   0  NVIDIA GeForce GTX 1650      WDDM  |   00000000:01:00.0 Off |                  N/A |\n",
      "| N/A   46C    P3             15W /   30W |       0MiB /   4096MiB |      0%      Default |\n",
      "|                                         |                        |                  N/A |\n",
      "+-----------------------------------------+------------------------+----------------------+\n",
      "                                                                                         \n",
      "+-----------------------------------------------------------------------------------------+\n",
      "| Processes:                                                                              |\n",
      "|  GPU   GI   CI        PID   Type   Process name                              GPU Memory |\n",
      "|        ID   ID                                                               Usage      |\n",
      "|=========================================================================================|\n",
      "|  No running processes found                                                             |\n",
      "+-----------------------------------------------------------------------------------------+\n"
     ]
    }
   ],
   "source": [
    "!nvidia-smi\n",
    "#to find out your system cuda details"
   ]
  },
  {
   "cell_type": "code",
   "execution_count": 2,
   "id": "c24fc484",
   "metadata": {},
   "outputs": [
    {
     "name": "stdout",
     "output_type": "stream",
     "text": [
      "2.5.1+cu121\n",
      "2.2.3\n"
     ]
    }
   ],
   "source": [
    "import torch\n",
    "import pandas as pd\n",
    "import numpy as np\n",
    "#import matplotlib.pyplot as plt\n",
    "\n",
    "print(torch.__version__)\n",
    "print(pd.__version__)"
   ]
  },
  {
   "cell_type": "markdown",
   "id": "12a5f4ec",
   "metadata": {},
   "source": [
    "Introduction to Tensor\n",
    "\n",
    "Creating a Tensor"
   ]
  },
  {
   "cell_type": "code",
   "execution_count": 11,
   "id": "21666f2d",
   "metadata": {},
   "outputs": [
    {
     "data": {
      "text/plain": [
       "tensor(7)"
      ]
     },
     "execution_count": 11,
     "metadata": {},
     "output_type": "execute_result"
    }
   ],
   "source": [
    "scalar = torch.tensor(7)\n",
    "scalar"
   ]
  },
  {
   "cell_type": "code",
   "execution_count": 13,
   "id": "3d3c74f0",
   "metadata": {},
   "outputs": [
    {
     "data": {
      "text/plain": [
       "7"
      ]
     },
     "execution_count": 13,
     "metadata": {},
     "output_type": "execute_result"
    }
   ],
   "source": [
    "scalar.ndim # A scalar has no dimensions\n",
    "\n",
    "#get tensor value\n",
    "\n",
    "scalar.item()"
   ]
  },
  {
   "cell_type": "code",
   "execution_count": null,
   "id": "a90c1d8b",
   "metadata": {},
   "outputs": [
    {
     "name": "stdout",
     "output_type": "stream",
     "text": [
      "tensor([7, 8, 9])\n",
      "1\n",
      "torch.Size([3])\n"
     ]
    }
   ],
   "source": [
    "#Vector\n",
    "vector = torch.tensor([7, 8, 9])\n",
    "print(vector)\n",
    "\n",
    "print(vector.ndim) # A vector has one dimension\n",
    "print(vector.shape) # A vector has a shape of (3)"
   ]
  },
  {
   "cell_type": "code",
   "execution_count": 16,
   "id": "6a19f735",
   "metadata": {},
   "outputs": [
    {
     "name": "stdout",
     "output_type": "stream",
     "text": [
      "tensor([[ 7,  8],\n",
      "        [ 9, 10]])\n",
      "2\n",
      "torch.Size([2, 2])\n"
     ]
    }
   ],
   "source": [
    "#matrix \n",
    "\n",
    "matrix = torch.tensor([[7,8],[9,10]])\n",
    "\n",
    "print(matrix)\n",
    "print(matrix.ndim) # A matrix has two dimensions\n",
    "print(matrix.shape) # A matrix has a shape of (2, 2)"
   ]
  },
  {
   "cell_type": "code",
   "execution_count": 22,
   "id": "eb0f371d",
   "metadata": {},
   "outputs": [
    {
     "name": "stdout",
     "output_type": "stream",
     "text": [
      "tensor([[[1, 2, 3],\n",
      "         [3, 6, 9],\n",
      "         [2, 4, 5]]])\n",
      "3\n",
      "torch.Size([1, 3, 3])\n",
      "tensor([[1, 2, 3],\n",
      "        [3, 6, 9],\n",
      "        [2, 4, 5]])\n",
      "tensor([1, 2, 3])\n",
      "tensor(1)\n",
      "tensor(3)\n",
      "tensor(5)\n"
     ]
    }
   ],
   "source": [
    "#Tensor\n",
    "\n",
    "ten = torch.tensor([[[1,2,3],\n",
    "                     [3,6,9],\n",
    "                     [2,4,5]]])\n",
    "\n",
    "print(ten)\n",
    "print(ten.ndim) # A tensor has three dimensions\n",
    "print(ten.shape) # A tensor has a shape of (1, 3, 3)\n",
    "\n",
    "print(ten[0]) # Accessing the first element of the tensor\n",
    "print(ten[0][0]) # Accessing the first row of the first element of the tensor\n",
    "print(ten[0][0][0]) # Accessing the first element of the first row of the first element of the tensor\n",
    "print(ten[0][1][0]) # Accessing the first element of the second row of the first element of the tensor\n",
    "print(ten[0][2][2])"
   ]
  },
  {
   "cell_type": "code",
   "execution_count": null,
   "id": "09acf179",
   "metadata": {},
   "outputs": [
    {
     "name": "stdout",
     "output_type": "stream",
     "text": [
      "tensor([[0.2513, 0.4074, 0.7381, 0.0210],\n",
      "        [0.4021, 0.6255, 0.1064, 0.4919],\n",
      "        [0.4626, 0.4122, 0.1918, 0.1208]])\n",
      "tensor([[[0.1509, 0.0393, 0.9650, 0.0545, 0.4072, 0.0728, 0.9030, 0.9174,\n",
      "          0.7390, 0.8188],\n",
      "         [0.8252, 0.8545, 0.2337, 0.3620, 0.0578, 0.4795, 0.4765, 0.3038,\n",
      "          0.1069, 0.2059],\n",
      "         [0.0293, 0.4472, 0.1939, 0.2633, 0.6468, 0.8286, 0.2457, 0.2621,\n",
      "          0.5026, 0.9135],\n",
      "         [0.3723, 0.8206, 0.3376, 0.3257, 0.2146, 0.8152, 0.3711, 0.8446,\n",
      "          0.6127, 0.7465],\n",
      "         [0.7865, 0.8386, 0.7534, 0.5046, 0.6837, 0.1332, 0.3771, 0.3564,\n",
      "          0.4699, 0.8444],\n",
      "         [0.2396, 0.5909, 0.8175, 0.5096, 0.9430, 0.2270, 0.7506, 0.9360,\n",
      "          0.6156, 0.2851],\n",
      "         [0.1021, 0.3932, 0.2148, 0.8365, 0.7263, 0.6816, 0.5949, 0.6848,\n",
      "          0.4023, 0.1996],\n",
      "         [0.9628, 0.2785, 0.0319, 0.1233, 0.5253, 0.5411, 0.5267, 0.8775,\n",
      "          0.3941, 0.4306],\n",
      "         [0.7548, 0.3437, 0.0146, 0.3179, 0.4021, 0.2071, 0.1749, 0.5878,\n",
      "          0.9153, 0.1627],\n",
      "         [0.1337, 0.4264, 0.4233, 0.2267, 0.2721, 0.2711, 0.5055, 0.7199,\n",
      "          0.2777, 0.4853]]])\n"
     ]
    }
   ],
   "source": [
    "#create a random tensor of size (3,4)\n",
    "#to create 2D matrix\n",
    "random_tensor = torch.rand(3,4)\n",
    "print(random_tensor)\n",
    "\n",
    "#to create 3 dimension which is known tensor\n",
    "Dim3 = torch.rand(1,10,10)\n",
    "print(Dim3)\n"
   ]
  },
  {
   "cell_type": "code",
   "execution_count": 8,
   "id": "fa4ff297",
   "metadata": {},
   "outputs": [
    {
     "data": {
      "text/plain": [
       "tensor([[[0.1015, 0.8491, 0.8605,  ..., 0.6189, 0.2326, 0.0465],\n",
       "         [0.3399, 0.6083, 0.4193,  ..., 0.6404, 0.1905, 0.1814],\n",
       "         [0.8920, 0.3033, 0.9220,  ..., 0.9246, 0.0232, 0.1867],\n",
       "         ...,\n",
       "         [0.9047, 0.1488, 0.5440,  ..., 0.3233, 0.5490, 0.8045],\n",
       "         [0.0738, 0.4143, 0.7739,  ..., 0.3941, 0.5063, 0.6981],\n",
       "         [0.9687, 0.4418, 0.7054,  ..., 0.8757, 0.6333, 0.4067]],\n",
       "\n",
       "        [[0.4137, 0.5660, 0.5580,  ..., 0.2319, 0.8154, 0.8471],\n",
       "         [0.9599, 0.5447, 0.9892,  ..., 0.0582, 0.8313, 0.9571],\n",
       "         [0.4286, 0.4215, 0.8390,  ..., 0.8136, 0.8110, 0.4866],\n",
       "         ...,\n",
       "         [0.3650, 0.0278, 0.9809,  ..., 0.4843, 0.4807, 0.0296],\n",
       "         [0.1637, 0.2982, 0.7208,  ..., 0.4911, 0.7829, 0.4597],\n",
       "         [0.4275, 0.8814, 0.0102,  ..., 0.8883, 0.0640, 0.2552]],\n",
       "\n",
       "        [[0.4571, 0.1155, 0.1595,  ..., 0.8833, 0.5114, 0.5325],\n",
       "         [0.5943, 0.8592, 0.3735,  ..., 0.8968, 0.8479, 0.5497],\n",
       "         [0.1449, 0.9431, 0.0908,  ..., 0.6686, 0.7825, 0.3865],\n",
       "         ...,\n",
       "         [0.0460, 0.1356, 0.4470,  ..., 0.3939, 0.1243, 0.3765],\n",
       "         [0.9821, 0.4210, 0.6929,  ..., 0.7674, 0.8247, 0.2123],\n",
       "         [0.5911, 0.5028, 0.6290,  ..., 0.0747, 0.5619, 0.9128]]])"
      ]
     },
     "execution_count": 8,
     "metadata": {},
     "output_type": "execute_result"
    }
   ],
   "source": [
    "#crate a random tensor with similar shape to an image tensor\n",
    "\n",
    "img_tensor = torch.rand(size=(3,244,244))\n",
    "img_tensor\n"
   ]
  },
  {
   "cell_type": "code",
   "execution_count": 13,
   "id": "2d90a88c",
   "metadata": {},
   "outputs": [
    {
     "name": "stdout",
     "output_type": "stream",
     "text": [
      "tensor([[0., 0., 0., 0.],\n",
      "        [0., 0., 0., 0.],\n",
      "        [0., 0., 0., 0.]])\n",
      "tensor([[1., 1., 1., 1.],\n",
      "        [1., 1., 1., 1.],\n",
      "        [1., 1., 1., 1.]])\n"
     ]
    }
   ],
   "source": [
    "#create a tensor with all zeros\n",
    "zero = torch.zeros(3,4)\n",
    "print(zero)\n",
    "\n",
    "#create a tensor with all ones\n",
    "one = torch.ones(3,4)\n",
    "print(one)"
   ]
  }
 ],
 "metadata": {
  "kernelspec": {
   "display_name": "pytorch_env",
   "language": "python",
   "name": "python3"
  },
  "language_info": {
   "codemirror_mode": {
    "name": "ipython",
    "version": 3
   },
   "file_extension": ".py",
   "mimetype": "text/x-python",
   "name": "python",
   "nbconvert_exporter": "python",
   "pygments_lexer": "ipython3",
   "version": "3.11.0"
  }
 },
 "nbformat": 4,
 "nbformat_minor": 5
}
