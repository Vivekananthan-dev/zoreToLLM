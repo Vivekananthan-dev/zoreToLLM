{
 "cells": [
  {
   "cell_type": "markdown",
   "id": "46bda964",
   "metadata": {},
   "source": [
    "Tensor Datatypes\n",
    "\n",
    "**Note: Tensor datatypes is one of the three big errors you'll run into with pyTorch and Deep learning:\n",
    "\n",
    "1. Tensor not right datatype - tensor.dtype\n",
    "2. Tensor not Right shape - tensor.shape\n",
    "3. Tensor not on the right device - tensor.device **\n"
   ]
  },
  {
   "cell_type": "code",
   "execution_count": 8,
   "id": "85476f65",
   "metadata": {},
   "outputs": [
    {
     "name": "stdout",
     "output_type": "stream",
     "text": [
      "tensor([3., 6., 0., 9.])\n"
     ]
    }
   ],
   "source": [
    "#Float32  tensor\n",
    "import torch\n",
    "float_32_tensor = torch.tensor([3.0,6,0,9.0]\n",
    "                                ,dtype=None,\n",
    "                                device=None,\n",
    "                                requires_grad=False)\n",
    "print(float_32_tensor)"
   ]
  },
  {
   "cell_type": "code",
   "execution_count": 3,
   "id": "883a0482",
   "metadata": {},
   "outputs": [
    {
     "name": "stdout",
     "output_type": "stream",
     "text": [
      "torch.float32\n",
      "tensor([3., 6., 0., 9.], dtype=torch.float16)\n",
      "torch.float16\n"
     ]
    }
   ],
   "source": [
    "print(float_32_tensor.dtype) #output: torch.float32\n",
    "\n",
    "# float_16\n",
    "\n",
    "float_16_tensor = float_32_tensor.type(torch.float16)\n",
    "print(float_16_tensor) #\n",
    "print(float_16_tensor.dtype) #output: torch.float16"
   ]
  },
  {
   "cell_type": "code",
   "execution_count": 8,
   "id": "36724249",
   "metadata": {},
   "outputs": [
    {
     "name": "stdout",
     "output_type": "stream",
     "text": [
      "tensor([ 9., 36.,  0., 81.])\n",
      "tensor([10.,  4.,  5.,  6.], dtype=torch.float64)\n",
      "torch.float64\n",
      "tensor([30., 24.,  0., 54.], dtype=torch.float64)\n"
     ]
    }
   ],
   "source": [
    "#lets multiple float 16 and 32 tensor\n",
    "\n",
    "print(float_32_tensor*float_16_tensor)\n",
    "\n",
    "new_Tensor = torch.tensor([10,4,5,6],dtype=torch.float64)\n",
    "print(new_Tensor)\n",
    "print(new_Tensor.dtype) #output: torch.float64\n",
    "\n",
    "m = new_Tensor*float_16_tensor #Note: That two different size of tensor try to multiple together will raise an error.\n",
    "print(m) #the in float 64 the priority is given to the float 64 tensor\n",
    "\n"
   ]
  },
  {
   "cell_type": "code",
   "execution_count": null,
   "id": "c04b550f",
   "metadata": {},
   "outputs": [
    {
     "name": "stdout",
     "output_type": "stream",
     "text": [
      "tensor([3, 6, 0, 9], dtype=torch.int32)\n",
      "tensor([ 9., 36.,  0., 81.])\n"
     ]
    }
   ],
   "source": [
    "#int_32\n",
    "int_32_tensor = torch.tensor([3,6,0,9],\n",
    "                             dtype=torch.int32,\n",
    "                             device=None,\n",
    "                             #device= \"cuda\", # we select which device we want to use cpu or Gpu\n",
    "                             requires_grad=False)\n",
    "\n",
    "## Note: that if run one tensor on cpu and other on gpu it will raise an error so try avoid it.\n",
    "print(int_32_tensor)\n",
    "\n",
    "#let try to multiple int_32 tensor with float_32 tensor\n",
    "print(float_32_tensor*int_32_tensor) #output: tensor([ 9., 36.,  0., 81.], dtype=torch.float32)\n"
   ]
  },
  {
   "cell_type": "code",
   "execution_count": 12,
   "id": "e406a254",
   "metadata": {},
   "outputs": [
    {
     "name": "stdout",
     "output_type": "stream",
     "text": [
      "tensor([[0.6097, 0.6954, 0.4387, 0.3101],\n",
      "        [0.6209, 0.9026, 0.7047, 0.7687],\n",
      "        [0.5271, 0.9465, 0.1596, 0.6354],\n",
      "        [0.8421, 0.3223, 0.1141, 0.5319]])\n",
      "Dtype: torch.float32\n",
      "Shape: torch.Size([4, 4])\n",
      "Device: cpu\n"
     ]
    }
   ],
   "source": [
    "#find detalis about tensor\n",
    "rnd = torch.rand(4,4)\n",
    "print(rnd)\n",
    "print(f\"Dtype: {rnd.dtype}\")\n",
    "print(f\"Shape: {rnd.shape}\")\n",
    "print(f\"Device: {rnd.device}\")"
   ]
  },
  {
   "cell_type": "markdown",
   "id": "c450ee22",
   "metadata": {},
   "source": [
    "### Manipulating Tensor\n",
    "\n",
    "* Addition\n",
    "* Subraction\n",
    "* Multiplication (element-wise)\n",
    "* Division\n",
    "* Matrix Multiplication (Dot product)\n"
   ]
  },
  {
   "cell_type": "code",
   "execution_count": 3,
   "id": "44cb9d4e",
   "metadata": {},
   "outputs": [
    {
     "data": {
      "text/plain": [
       "tensor([[[1, 2, 3],\n",
       "         [4, 5, 6],\n",
       "         [7, 8, 9]]])"
      ]
     },
     "execution_count": 3,
     "metadata": {},
     "output_type": "execute_result"
    }
   ],
   "source": [
    "# create a tensor\n",
    "\n",
    "sample_Tensor = torch.tensor([[[1,2,3],\n",
    "                               [4,5,6],\n",
    "                               [7,8,9]]])\n",
    "sample_Tensor"
   ]
  },
  {
   "cell_type": "code",
   "execution_count": 14,
   "id": "3bd44ba0",
   "metadata": {},
   "outputs": [
    {
     "data": {
      "text/plain": [
       "tensor([[[11, 12, 13],\n",
       "         [14, 15, 16],\n",
       "         [17, 18, 19]]])"
      ]
     },
     "execution_count": 14,
     "metadata": {},
     "output_type": "execute_result"
    }
   ],
   "source": [
    "sample_Tensor+10"
   ]
  },
  {
   "cell_type": "code",
   "execution_count": null,
   "id": "b4d5d321",
   "metadata": {},
   "outputs": [
    {
     "data": {
      "text/plain": [
       "tensor([[[10, 20, 30],\n",
       "         [40, 50, 60],\n",
       "         [70, 80, 90]]])"
      ]
     },
     "execution_count": 15,
     "metadata": {},
     "output_type": "execute_result"
    }
   ],
   "source": [
    "sample_Tensor*10 # all the previous operation will not affected to the original variable or tensor"
   ]
  },
  {
   "cell_type": "code",
   "execution_count": 16,
   "id": "d9256a9a",
   "metadata": {},
   "outputs": [
    {
     "data": {
      "text/plain": [
       "tensor([[[-9, -8, -7],\n",
       "         [-6, -5, -4],\n",
       "         [-3, -2, -1]]])"
      ]
     },
     "execution_count": 16,
     "metadata": {},
     "output_type": "execute_result"
    }
   ],
   "source": [
    "sample_Tensor -10"
   ]
  },
  {
   "cell_type": "code",
   "execution_count": 17,
   "id": "01c5e526",
   "metadata": {},
   "outputs": [
    {
     "data": {
      "text/plain": [
       "tensor([[[0.1000, 0.2000, 0.3000],\n",
       "         [0.4000, 0.5000, 0.6000],\n",
       "         [0.7000, 0.8000, 0.9000]]])"
      ]
     },
     "execution_count": 17,
     "metadata": {},
     "output_type": "execute_result"
    }
   ],
   "source": [
    "sample_Tensor/10"
   ]
  },
  {
   "cell_type": "code",
   "execution_count": 18,
   "id": "aeaa3f2f",
   "metadata": {},
   "outputs": [
    {
     "data": {
      "text/plain": [
       "tensor([[[11, 12, 13],\n",
       "         [14, 15, 16],\n",
       "         [17, 18, 19]]])"
      ]
     },
     "execution_count": 18,
     "metadata": {},
     "output_type": "execute_result"
    }
   ],
   "source": [
    "## Now there is another way to do this operation\n",
    "sample_Tensor.add_(10) # this will add 10 to the original tensor"
   ]
  },
  {
   "cell_type": "code",
   "execution_count": null,
   "id": "92b7e319",
   "metadata": {},
   "outputs": [
    {
     "data": {
      "text/plain": [
       "tensor([[[110, 120, 130],\n",
       "         [140, 150, 160],\n",
       "         [170, 180, 190]]])"
      ]
     },
     "execution_count": 19,
     "metadata": {},
     "output_type": "execute_result"
    }
   ],
   "source": [
    "sample_Tensor.mul(10) # And using this method the original tensor will be affected"
   ]
  },
  {
   "cell_type": "markdown",
   "id": "6bc1aba6",
   "metadata": {},
   "source": [
    "#Now lets dive into Matrix multiplication\n",
    "\n",
    "Two main ways of performing matrix multiplication in neural networks and deep learning are:\n",
    "\n",
    "* Element-wise multiplication \n",
    "* Matrix multiplication (dot product)\n"
   ]
  },
  {
   "cell_type": "code",
   "execution_count": 21,
   "id": "c8c098a7",
   "metadata": {},
   "outputs": [
    {
     "data": {
      "text/plain": [
       "torch.Size([1, 3, 3])"
      ]
     },
     "execution_count": 21,
     "metadata": {},
     "output_type": "execute_result"
    }
   ],
   "source": [
    "sh = sample_Tensor.shape\n",
    "sh"
   ]
  },
  {
   "cell_type": "code",
   "execution_count": 22,
   "id": "f27b8a58",
   "metadata": {},
   "outputs": [
    {
     "data": {
      "text/plain": [
       "1"
      ]
     },
     "execution_count": 22,
     "metadata": {},
     "output_type": "execute_result"
    }
   ],
   "source": [
    "sh[0]"
   ]
  },
  {
   "cell_type": "code",
   "execution_count": 23,
   "id": "3ef87d7a",
   "metadata": {},
   "outputs": [
    {
     "data": {
      "text/plain": [
       "3"
      ]
     },
     "execution_count": 23,
     "metadata": {},
     "output_type": "execute_result"
    }
   ],
   "source": [
    "sh[1]"
   ]
  },
  {
   "cell_type": "code",
   "execution_count": 24,
   "id": "9971e4ca",
   "metadata": {},
   "outputs": [
    {
     "data": {
      "text/plain": [
       "3"
      ]
     },
     "execution_count": 24,
     "metadata": {},
     "output_type": "execute_result"
    }
   ],
   "source": [
    "sh[2]"
   ]
  },
  {
   "cell_type": "code",
   "execution_count": 6,
   "id": "03bca840",
   "metadata": {},
   "outputs": [
    {
     "name": "stdout",
     "output_type": "stream",
     "text": [
      "CPU times: total: 0 ns\n",
      "Wall time: 0 ns\n"
     ]
    },
    {
     "data": {
      "text/plain": [
       "tensor([[[ 30,  36,  42],\n",
       "         [ 66,  81,  96],\n",
       "         [102, 126, 150]]])"
      ]
     },
     "execution_count": 6,
     "metadata": {},
     "output_type": "execute_result"
    }
   ],
   "source": [
    "%%time\n",
    "torch.matmul(sample_Tensor,sample_Tensor)"
   ]
  },
  {
   "cell_type": "code",
   "execution_count": 9,
   "id": "725b7ad7",
   "metadata": {},
   "outputs": [
    {
     "name": "stdout",
     "output_type": "stream",
     "text": [
      "tensor([[1, 2, 3],\n",
      "        [4, 5, 6],\n",
      "        [7, 8, 9]])\n",
      "tensor([[ 30,  36,  42],\n",
      "        [ 66,  81,  96],\n",
      "        [102, 126, 150]])\n",
      "CPU times: total: 0 ns\n",
      "Wall time: 5 ms\n"
     ]
    }
   ],
   "source": [
    "%%time\n",
    "#create a matrix\n",
    "matrix = torch.tensor([[1,2,3],\n",
    "                       [4,5,6],\n",
    "                       [7,8,9]])\n",
    "print(matrix)\n",
    "#matrix multiplication\n",
    "print(torch.matmul(matrix, matrix))"
   ]
  },
  {
   "cell_type": "code",
   "execution_count": 10,
   "id": "069e579b",
   "metadata": {},
   "outputs": [
    {
     "data": {
      "text/plain": [
       "tensor([[ 30,  36,  42],\n",
       "        [ 66,  81,  96],\n",
       "        [102, 126, 150]])"
      ]
     },
     "execution_count": 10,
     "metadata": {},
     "output_type": "execute_result"
    }
   ],
   "source": [
    "matrix @ matrix"
   ]
  },
  {
   "cell_type": "markdown",
   "id": "bf2a5507",
   "metadata": {},
   "source": [
    "There are two main rules that perform matrix multiplication without any error:\n",
    "1. The **innner dimensions** must match:\n",
    " * `(3,2) @ (3,2)` won't work\n",
    " * `(2,3) @ (3,2)` will work\n",
    " * `(3,2) @ (2,3)` will work\n",
    "The column of first matrix and row of second matrix should be same \n",
    "\n",
    "2. The resulting matrix has the shape of the **outer dimensions**:\n",
    "    * `(2,3) @ (3,2)` -> `(2,2)`\n",
    "    * `(3,2) @ (2,3)` -> `(3,3)`"
   ]
  },
  {
   "cell_type": "code",
   "execution_count": null,
   "id": "802c2675",
   "metadata": {},
   "outputs": [
    {
     "ename": "RuntimeError",
     "evalue": "mat1 and mat2 shapes cannot be multiplied (3x2 and 3x2)",
     "output_type": "error",
     "traceback": [
      "\u001b[31m---------------------------------------------------------------------------\u001b[39m",
      "\u001b[31mRuntimeError\u001b[39m                              Traceback (most recent call last)",
      "\u001b[36mCell\u001b[39m\u001b[36m \u001b[39m\u001b[32mIn[11]\u001b[39m\u001b[32m, line 1\u001b[39m\n\u001b[32m----> \u001b[39m\u001b[32m1\u001b[39m \u001b[43mtorch\u001b[49m\u001b[43m.\u001b[49m\u001b[43mmatmul\u001b[49m\u001b[43m(\u001b[49m\u001b[43mtorch\u001b[49m\u001b[43m.\u001b[49m\u001b[43mrand\u001b[49m\u001b[43m(\u001b[49m\u001b[32;43m3\u001b[39;49m\u001b[43m,\u001b[49m\u001b[32;43m2\u001b[39;49m\u001b[43m)\u001b[49m\u001b[43m,\u001b[49m\u001b[43mtorch\u001b[49m\u001b[43m.\u001b[49m\u001b[43mrand\u001b[49m\u001b[43m(\u001b[49m\u001b[32;43m3\u001b[39;49m\u001b[43m,\u001b[49m\u001b[32;43m2\u001b[39;49m\u001b[43m)\u001b[49m\u001b[43m)\u001b[49m\n",
      "\u001b[31mRuntimeError\u001b[39m: mat1 and mat2 shapes cannot be multiplied (3x2 and 3x2)"
     ]
    }
   ],
   "source": [
    "torch.matmul(torch.rand(3,2),torch.rand(3,2)) #output : error"
   ]
  }
 ],
 "metadata": {
  "kernelspec": {
   "display_name": "pytorch_env",
   "language": "python",
   "name": "python3"
  },
  "language_info": {
   "codemirror_mode": {
    "name": "ipython",
    "version": 3
   },
   "file_extension": ".py",
   "mimetype": "text/x-python",
   "name": "python",
   "nbconvert_exporter": "python",
   "pygments_lexer": "ipython3",
   "version": "3.11.0"
  }
 },
 "nbformat": 4,
 "nbformat_minor": 5
}
